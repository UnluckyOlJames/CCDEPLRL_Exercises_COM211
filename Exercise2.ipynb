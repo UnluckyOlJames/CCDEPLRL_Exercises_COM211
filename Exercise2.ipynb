{
  "nbformat": 4,
  "nbformat_minor": 0,
  "metadata": {
    "colab": {
      "provenance": []
    },
    "kernelspec": {
      "name": "python3",
      "display_name": "Python 3"
    },
    "language_info": {
      "name": "python"
    }
  },
  "cells": [
    {
      "cell_type": "markdown",
      "source": [
        "# Exercise 2"
      ],
      "metadata": {
        "id": "tqFPmGbJ7Oah"
      }
    },
    {
      "cell_type": "markdown",
      "source": [
        "\n",
        "## Forward Pass and Backward Pass"
      ],
      "metadata": {
        "id": "cUkdx6a498S8"
      }
    },
    {
      "cell_type": "markdown",
      "source": [
        "<img src=\"https://github.com/robitussin/CCDEPLRL_EXERCISES/blob/main/images/exercise2.png?raw=true\"/>"
      ],
      "metadata": {
        "id": "0Q5Io34f-x38"
      }
    },
    {
      "cell_type": "markdown",
      "source": [
        "<img src=\"\"/>"
      ],
      "metadata": {
        "id": "-ZTBRmkM7JMR"
      }
    },
    {
      "cell_type": "markdown",
      "source": [
        "1. What is the predicted output? (`20 points`)"
      ],
      "metadata": {
        "id": "7HD5MNgg7hIu"
      }
    },
    {
      "cell_type": "code",
      "execution_count": 32,
      "metadata": {
        "id": "2cbutiml5cm_",
        "colab": {
          "base_uri": "https://localhost:8080/"
        },
        "outputId": "5842dc82-336c-4bf5-bde4-6dd3ec7ad12c"
      },
      "outputs": [
        {
          "output_type": "stream",
          "name": "stdout",
          "text": [
            "Predicted Output: \n",
            "4.0\n"
          ]
        }
      ],
      "source": [
        "zOne = 2.0\n",
        "wOne = 2.0\n",
        "y = 1.0\n",
        "\n",
        "zTwo = zOne * wOne\n",
        "print(\"Predicted Output: \")\n",
        "print(zTwo)"
      ]
    },
    {
      "cell_type": "markdown",
      "source": [
        "2. Find the loss using the Mean Squared Error (MSE) function (`20 points`)"
      ],
      "metadata": {
        "id": "JTh2z2v97k0J"
      }
    },
    {
      "cell_type": "code",
      "source": [
        "zOne = 2.0\n",
        "wOne = 2.0\n",
        "y = 1.0\n",
        "\n",
        "zTwo = zOne * wOne\n",
        "\n",
        "C = (zTwo - y)**2\n",
        "print(\"Cost: \")\n",
        "print(C)"
      ],
      "metadata": {
        "id": "F2D7opAr7t3U",
        "colab": {
          "base_uri": "https://localhost:8080/"
        },
        "outputId": "d46479ca-b1e6-4553-fc0a-21c610627fc3"
      },
      "execution_count": 33,
      "outputs": [
        {
          "output_type": "stream",
          "name": "stdout",
          "text": [
            "Cost: \n",
            "9.0\n"
          ]
        }
      ]
    },
    {
      "cell_type": "markdown",
      "source": [
        "3. What is the derivative of $z_{2}$ with respect to $w_{1}$? (`20 points`)"
      ],
      "metadata": {
        "id": "wz5D8wEl7wtT"
      }
    },
    {
      "cell_type": "code",
      "source": [
        "zOne = 2.0\n",
        "wOne = 2.0\n",
        "y = 1.0\n",
        "\n",
        "zTwo = zOne * wOne\n",
        "\n",
        "C = (zTwo - y)**2\n",
        "\n",
        "print(\"dz2w1 = zOne:\")\n",
        "print(zOne)"
      ],
      "metadata": {
        "id": "n8Q_9JJ57xFL",
        "colab": {
          "base_uri": "https://localhost:8080/"
        },
        "outputId": "926182f4-9ed4-426c-ac05-1df7d643af62"
      },
      "execution_count": 34,
      "outputs": [
        {
          "output_type": "stream",
          "name": "stdout",
          "text": [
            "dz2w1 = zOne:\n",
            "2.0\n"
          ]
        }
      ]
    },
    {
      "cell_type": "markdown",
      "source": [
        "4. What is the derivative of the loss with respect to $z_{2}$? (`20 points`)"
      ],
      "metadata": {
        "id": "HVpt0n-E9TIx"
      }
    },
    {
      "cell_type": "code",
      "source": [
        "zOne = 2.0\n",
        "wOne = 2.0\n",
        "y = 1.0\n",
        "\n",
        "zTwo = zOne * wOne\n",
        "\n",
        "C = (zTwo - y)**2\n",
        "\n",
        "dCzTwo = 2*(zTwo - y)\n",
        "\n",
        "print(\"dCz2: \")\n",
        "print(dCzTwo)"
      ],
      "metadata": {
        "id": "KM4fEL059grQ",
        "colab": {
          "base_uri": "https://localhost:8080/"
        },
        "outputId": "bf20a220-7fdd-45e7-eda1-9e3233735f44"
      },
      "execution_count": 35,
      "outputs": [
        {
          "output_type": "stream",
          "name": "stdout",
          "text": [
            "dCz2: \n",
            "6.0\n"
          ]
        }
      ]
    },
    {
      "cell_type": "markdown",
      "source": [
        "5. What is the derivative of the loss with respect to $w_{1}$? (`20 points`)"
      ],
      "metadata": {
        "id": "hlO5xdMx9hhl"
      }
    },
    {
      "cell_type": "code",
      "source": [
        "zOne = 2.0\n",
        "wOne = 2.0\n",
        "y = 1.0\n",
        "\n",
        "zTwo = zOne * wOne\n",
        "\n",
        "C = (zTwo - y)**2\n",
        "\n",
        "dCzTwo = 2*(zTwo - y)\n",
        "\n",
        "dCwOne = zOne * dCzTwo\n",
        "print(\"dCwOne: \")\n",
        "print(str(zOne*2*(zOne)) + \" * w1 - 4\")"
      ],
      "metadata": {
        "id": "-xP2grHW9hxK",
        "colab": {
          "base_uri": "https://localhost:8080/"
        },
        "outputId": "9dced715-7e56-4fec-98aa-aad18e9de86f"
      },
      "execution_count": 47,
      "outputs": [
        {
          "output_type": "stream",
          "name": "stdout",
          "text": [
            "dCwOne: \n",
            "8.0 * w1 - 4\n"
          ]
        }
      ]
    },
    {
      "cell_type": "code",
      "source": [],
      "metadata": {
        "id": "A8hl0gEeLSre"
      },
      "execution_count": null,
      "outputs": []
    }
  ]
}